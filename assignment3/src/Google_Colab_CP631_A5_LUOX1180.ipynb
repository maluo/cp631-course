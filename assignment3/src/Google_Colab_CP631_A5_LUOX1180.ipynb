{
  "nbformat": 4,
  "nbformat_minor": 0,
  "metadata": {
    "colab": {
      "name": "Google_Colab_CP631_A5_LUOX1180.ipynb",
      "provenance": [],
      "collapsed_sections": [
        "fpxsgxqh_aBe",
        "jq-rJarVAvtM",
        "bO4I2X09VzB5",
        "4_vRfmmdWYLo",
        "OI05mF37W9n1",
        "qRr98CBFYUt4",
        "FwRLbh1OR0UQ",
        "2SAS5O6q2Fi3"
      ]
    },
    "kernelspec": {
      "name": "python3",
      "display_name": "Python 3"
    }
  },
  "cells": [
    {
      "cell_type": "markdown",
      "metadata": {
        "id": "bqo12v9FRmXj"
      },
      "source": [
        "#**CP631 - Assignment 3 - PySpark on Titanic Trouble**\r\n",
        "\r\n",
        "**Name:** Ma Luo\r\n",
        "**Email:** Luox1180@mylaurier.ca\r\n",
        "\r\n",
        "**Please run Part A code in the first session before we start here**"
      ]
    },
    {
      "cell_type": "markdown",
      "metadata": {
        "id": "WWTAYjMDulyR"
      },
      "source": [
        "##**Before Runing**"
      ]
    },
    {
      "cell_type": "code",
      "metadata": {
        "id": "XITuXFTLuru9"
      },
      "source": [
        "##Install Apache Spark 3.0.0\r\n",
        "# install Java8\r\n",
        "!apt-get install openjdk-8-jdk-headless -qq > /dev/null\r\n",
        "# download spark3.0.1\r\n",
        "!wget -q https://downloads.apache.org/spark/spark-3.0.1/spark-3.0.1-bin-hadoop3.2.tgz\r\n",
        "# unzip it\r\n",
        "!tar xf spark-3.0.1-bin-hadoop3.2.tgz\r\n",
        "# install findspark \r\n",
        "!pip install -q findspark\r\n",
        "\r\n",
        "##Set Environment Variables\r\n",
        "import os\r\n",
        "os.environ[\"JAVA_HOME\"] = \"/usr/lib/jvm/java-8-openjdk-amd64\"\r\n",
        "os.environ[\"SPARK_HOME\"] = \"/content/spark-3.0.1-bin-hadoop3.2\"\r\n",
        "\r\n",
        "#Init Find Spark\r\n",
        "import findspark\r\n",
        "findspark.init()\r\n",
        "from pyspark.sql import SparkSession"
      ],
      "execution_count": null,
      "outputs": []
    },
    {
      "cell_type": "code",
      "metadata": {
        "colab": {
          "base_uri": "https://localhost:8080/"
        },
        "id": "gD1U8whput8W",
        "outputId": "7f05f94c-a729-4efa-dc79-ad2c79dd369f"
      },
      "source": [
        "# Mount Google Drive\r\n",
        "from google.colab import drive\r\n",
        "drive.mount(\"/content/drive\")"
      ],
      "execution_count": 46,
      "outputs": [
        {
          "output_type": "stream",
          "text": [
            "Drive already mounted at /content/drive; to attempt to forcibly remount, call drive.mount(\"/content/drive\", force_remount=True).\n"
          ],
          "name": "stdout"
        }
      ]
    },
    {
      "cell_type": "markdown",
      "metadata": {
        "id": "FwRLbh1OR0UQ"
      },
      "source": [
        "##**Part I - Load Training Set**"
      ]
    },
    {
      "cell_type": "code",
      "metadata": {
        "colab": {
          "base_uri": "https://localhost:8080/"
        },
        "id": "IVakjnNUSC5X",
        "outputId": "c662b291-73fa-4dff-d174-69b4a83f4ad7"
      },
      "source": [
        "from pyspark.sql import SparkSession\r\n",
        "from pyspark.ml import Pipeline\r\n",
        "from pyspark.sql.functions import mean,col,split, col, regexp_extract, when, lit\r\n",
        "from pyspark.ml.feature import StringIndexer\r\n",
        "from pyspark.ml.feature import VectorAssembler\r\n",
        "from pyspark.ml.evaluation import MulticlassClassificationEvaluator\r\n",
        "from pyspark.ml.feature import QuantileDiscretizer\r\n",
        "\r\n",
        "import pyspark\r\n",
        "conf = pyspark.SparkConf().setAppName(\"TitanicNotebook\") #Defines the Spark App firstly\r\n",
        "try:\r\n",
        "    sc = pyspark.SparkContext(conf=conf)\r\n",
        "except:\r\n",
        "    print(\"Warning : a SparkContext already exists.\")\r\n",
        "\r\n",
        "spark = SparkSession \\\r\n",
        "    .builder \\\r\n",
        "    .appName(\"TitanicNotebook\") \\\r\n",
        "    .getOrCreate()    \r\n",
        "\r\n",
        "test_path = \"/content/drive/MyDrive/Colab Notebooks/CP631/Titanic/test.csv\"\r\n",
        "train_path = \"/content/drive/MyDrive/Colab Notebooks/CP631/Titanic/train.csv\"\r\n",
        "\r\n",
        "titanic_df = spark.read.csv(train_rdd,header = 'True',inferSchema='True')\r\n"
      ],
      "execution_count": 84,
      "outputs": [
        {
          "output_type": "stream",
          "text": [
            "Warning : a SparkContext already exists.\n"
          ],
          "name": "stdout"
        }
      ]
    },
    {
      "cell_type": "markdown",
      "metadata": {
        "id": "2SAS5O6q2Fi3"
      },
      "source": [
        "##**Part II - Play Training Set**"
      ]
    },
    {
      "cell_type": "code",
      "metadata": {
        "colab": {
          "base_uri": "https://localhost:8080/",
          "height": 55
        },
        "id": "21e6vckMu0ni",
        "outputId": "f062e972-9dc2-42fa-cb79-af0c9f9c745d"
      },
      "source": [
        "titanic_df.take(3)\r\n",
        "display(titanic_df)"
      ],
      "execution_count": 89,
      "outputs": [
        {
          "output_type": "display_data",
          "data": {
            "text/plain": [
              "DataFrame[PassengerId: int, Survived: int, Pclass: int, Name: string, Sex: string, Age: double, SibSp: int, Parch: int, Ticket: string, Fare: double, Cabin: string, Embarked: string]"
            ]
          },
          "metadata": {
            "tags": []
          }
        }
      ]
    },
    {
      "cell_type": "code",
      "metadata": {
        "id": "wsPIT3dm1unV"
      },
      "source": [
        ""
      ],
      "execution_count": null,
      "outputs": []
    },
    {
      "cell_type": "code",
      "metadata": {
        "colab": {
          "base_uri": "https://localhost:8080/"
        },
        "id": "ezvfC1EQ1s29",
        "outputId": "0334b2ce-104c-4fa1-dbc6-12639a4d7211"
      },
      "source": [
        "titanic_df.printSchema()"
      ],
      "execution_count": 88,
      "outputs": [
        {
          "output_type": "stream",
          "text": [
            "root\n",
            " |-- PassengerId: integer (nullable = true)\n",
            " |-- Survived: integer (nullable = true)\n",
            " |-- Pclass: integer (nullable = true)\n",
            " |-- Name: string (nullable = true)\n",
            " |-- Sex: string (nullable = true)\n",
            " |-- Age: double (nullable = true)\n",
            " |-- SibSp: integer (nullable = true)\n",
            " |-- Parch: integer (nullable = true)\n",
            " |-- Ticket: string (nullable = true)\n",
            " |-- Fare: double (nullable = true)\n",
            " |-- Cabin: string (nullable = true)\n",
            " |-- Embarked: string (nullable = true)\n",
            "\n"
          ],
          "name": "stdout"
        }
      ]
    },
    {
      "cell_type": "code",
      "metadata": {
        "colab": {
          "base_uri": "https://localhost:8080/"
        },
        "id": "LHAjUTgm1wLl",
        "outputId": "2328b989-8f49-4242-acc6-759e058d1058"
      },
      "source": [
        "passengers_count = titanic_df.count()\r\n",
        "print(passengers_count)"
      ],
      "execution_count": 91,
      "outputs": [
        {
          "output_type": "stream",
          "text": [
            "891\n"
          ],
          "name": "stdout"
        }
      ]
    },
    {
      "cell_type": "code",
      "metadata": {
        "colab": {
          "base_uri": "https://localhost:8080/"
        },
        "id": "wbGeY2-x10km",
        "outputId": "9a8e53ed-5502-4ea0-ef41-e3bc77341d30"
      },
      "source": [
        "titanic_df.show(5)\r\n"
      ],
      "execution_count": 92,
      "outputs": [
        {
          "output_type": "stream",
          "text": [
            "+-----------+--------+------+--------------------+------+----+-----+-----+----------------+-------+-----+--------+\n",
            "|PassengerId|Survived|Pclass|                Name|   Sex| Age|SibSp|Parch|          Ticket|   Fare|Cabin|Embarked|\n",
            "+-----------+--------+------+--------------------+------+----+-----+-----+----------------+-------+-----+--------+\n",
            "|          1|       0|     3|Braund, Mr. Owen ...|  male|22.0|    1|    0|       A/5 21171|   7.25| null|       S|\n",
            "|          2|       1|     1|Cumings, Mrs. Joh...|female|38.0|    1|    0|        PC 17599|71.2833|  C85|       C|\n",
            "|          3|       1|     3|Heikkinen, Miss. ...|female|26.0|    0|    0|STON/O2. 3101282|  7.925| null|       S|\n",
            "|          4|       1|     1|Futrelle, Mrs. Ja...|female|35.0|    1|    0|          113803|   53.1| C123|       S|\n",
            "|          5|       0|     3|Allen, Mr. Willia...|  male|35.0|    0|    0|          373450|   8.05| null|       S|\n",
            "+-----------+--------+------+--------------------+------+----+-----+-----+----------------+-------+-----+--------+\n",
            "only showing top 5 rows\n",
            "\n"
          ],
          "name": "stdout"
        }
      ]
    },
    {
      "cell_type": "code",
      "metadata": {
        "colab": {
          "base_uri": "https://localhost:8080/"
        },
        "id": "An7Psev512TL",
        "outputId": "a70b274f-200c-4626-ad4d-0c36693828b9"
      },
      "source": [
        "titanic_df.describe().show()\r\n"
      ],
      "execution_count": 93,
      "outputs": [
        {
          "output_type": "stream",
          "text": [
            "+-------+-----------------+-------------------+------------------+--------------------+------+------------------+------------------+-------------------+------------------+------------------+-----+--------+\n",
            "|summary|      PassengerId|           Survived|            Pclass|                Name|   Sex|               Age|             SibSp|              Parch|            Ticket|              Fare|Cabin|Embarked|\n",
            "+-------+-----------------+-------------------+------------------+--------------------+------+------------------+------------------+-------------------+------------------+------------------+-----+--------+\n",
            "|  count|              891|                891|               891|                 891|   891|               714|               891|                891|               891|               891|  204|     889|\n",
            "|   mean|            446.0| 0.3838383838383838| 2.308641975308642|                null|  null| 29.69911764705882|0.5230078563411896|0.38159371492704824|260318.54916792738|32.204207968574615| null|    null|\n",
            "| stddev|257.3538420152301|0.48659245426485737|0.8360712409770491|                null|  null|14.526497332334039| 1.102743432293432| 0.8060572211299486| 471609.2686883499|  49.6934285971809| null|    null|\n",
            "|    min|                1|                  0|                 1|\"Andersson, Mr. A...|female|              0.42|                 0|                  0|            110152|               0.0|  A10|       C|\n",
            "|    max|              891|                  1|                 3|van Melkebeke, Mr...|  male|              80.0|                 8|                  6|         WE/P 5735|          512.3292|    T|       S|\n",
            "+-------+-----------------+-------------------+------------------+--------------------+------+------------------+------------------+-------------------+------------------+------------------+-----+--------+\n",
            "\n"
          ],
          "name": "stdout"
        }
      ]
    },
    {
      "cell_type": "code",
      "metadata": {
        "colab": {
          "base_uri": "https://localhost:8080/"
        },
        "id": "xxj77n6c17-U",
        "outputId": "2b6a175d-9fd0-451b-cc4e-49b1cdc51046"
      },
      "source": [
        "titanic_df.select(\"Survived\",\"Pclass\",\"Embarked\").show()\r\n"
      ],
      "execution_count": 95,
      "outputs": [
        {
          "output_type": "stream",
          "text": [
            "+--------+------+--------+\n",
            "|Survived|Pclass|Embarked|\n",
            "+--------+------+--------+\n",
            "|       0|     3|       S|\n",
            "|       1|     1|       C|\n",
            "|       1|     3|       S|\n",
            "|       1|     1|       S|\n",
            "|       0|     3|       S|\n",
            "|       0|     3|       Q|\n",
            "|       0|     1|       S|\n",
            "|       0|     3|       S|\n",
            "|       1|     3|       S|\n",
            "|       1|     2|       C|\n",
            "|       1|     3|       S|\n",
            "|       1|     1|       S|\n",
            "|       0|     3|       S|\n",
            "|       0|     3|       S|\n",
            "|       0|     3|       S|\n",
            "|       1|     2|       S|\n",
            "|       0|     3|       Q|\n",
            "|       1|     2|       S|\n",
            "|       0|     3|       S|\n",
            "|       1|     3|       C|\n",
            "+--------+------+--------+\n",
            "only showing top 20 rows\n",
            "\n"
          ],
          "name": "stdout"
        }
      ]
    },
    {
      "cell_type": "markdown",
      "metadata": {
        "id": "RLk9ksWZ2QZm"
      },
      "source": [
        "##**Part III - Explore more**"
      ]
    },
    {
      "cell_type": "markdown",
      "metadata": {
        "id": "yq71oZm62oct"
      },
      "source": [
        "### **Survival STATS**"
      ]
    },
    {
      "cell_type": "code",
      "metadata": {
        "colab": {
          "base_uri": "https://localhost:8080/"
        },
        "id": "8MMm54Ai2YXe",
        "outputId": "5dd6da76-0672-4775-84fb-f3a5a32139b5"
      },
      "source": [
        "titanic_df.groupBy(\"Survived\").count().show()\r\n"
      ],
      "execution_count": 96,
      "outputs": [
        {
          "output_type": "stream",
          "text": [
            "+--------+-----+\n",
            "|Survived|count|\n",
            "+--------+-----+\n",
            "|       1|  342|\n",
            "|       0|  549|\n",
            "+--------+-----+\n",
            "\n"
          ],
          "name": "stdout"
        }
      ]
    },
    {
      "cell_type": "code",
      "metadata": {
        "id": "l6QN4qOH2ajC"
      },
      "source": [
        "gropuBy_output = titanic_df.groupBy(\"Survived\").count()\r\n"
      ],
      "execution_count": 97,
      "outputs": []
    },
    {
      "cell_type": "code",
      "metadata": {
        "colab": {
          "base_uri": "https://localhost:8080/",
          "height": 35
        },
        "id": "gotYHf-g2blt",
        "outputId": "135e550a-3e18-40f0-f9d9-ea7a0901b7af"
      },
      "source": [
        "display(gropuBy_output)\r\n"
      ],
      "execution_count": 99,
      "outputs": [
        {
          "output_type": "display_data",
          "data": {
            "text/plain": [
              "DataFrame[Survived: int, count: bigint]"
            ]
          },
          "metadata": {
            "tags": []
          }
        }
      ]
    },
    {
      "cell_type": "code",
      "metadata": {
        "colab": {
          "base_uri": "https://localhost:8080/"
        },
        "id": "0G3KJplw2dik",
        "outputId": "6fc7fb20-34e9-4a2f-c84b-fc42ace3c6e8"
      },
      "source": [
        "titanic_df.groupBy(\"Sex\",\"Survived\").count().show()\r\n"
      ],
      "execution_count": 101,
      "outputs": [
        {
          "output_type": "stream",
          "text": [
            "+------+--------+-----+\n",
            "|   Sex|Survived|count|\n",
            "+------+--------+-----+\n",
            "|  male|       0|  468|\n",
            "|female|       1|  233|\n",
            "|female|       0|   81|\n",
            "|  male|       1|  109|\n",
            "+------+--------+-----+\n",
            "\n"
          ],
          "name": "stdout"
        }
      ]
    },
    {
      "cell_type": "markdown",
      "metadata": {
        "id": "qarARzU73bEW"
      },
      "source": [
        "### **Checking Null Values**"
      ]
    },
    {
      "cell_type": "code",
      "metadata": {
        "id": "7vZXU-rk3nCh"
      },
      "source": [
        "# This function use to print feature with null values and null count \r\n",
        "def null_value_count(df):\r\n",
        "  null_columns_counts = []\r\n",
        "  numRows = df.count()\r\n",
        "  for k in df.columns:\r\n",
        "    nullRows = df.where(col(k).isNull()).count()\r\n",
        "    if(nullRows > 0):\r\n",
        "      temp = k,nullRows\r\n",
        "      null_columns_counts.append(temp)\r\n",
        "  return(null_columns_counts)"
      ],
      "execution_count": 102,
      "outputs": []
    },
    {
      "cell_type": "markdown",
      "metadata": {
        "id": "R79jxH4G39zI"
      },
      "source": [
        "#### **NULL Sum**"
      ]
    },
    {
      "cell_type": "code",
      "metadata": {
        "id": "lweGR2tl3rFa"
      },
      "source": [
        "null_columns_count_list = null_value_count(titanic_df)\r\n"
      ],
      "execution_count": 103,
      "outputs": []
    },
    {
      "cell_type": "code",
      "metadata": {
        "colab": {
          "base_uri": "https://localhost:8080/"
        },
        "id": "8StDSvgD3tZ0",
        "outputId": "bbf32845-f66c-4851-8a99-00b5fcec2110"
      },
      "source": [
        "spark.createDataFrame(null_columns_count_list, ['Column_With_Null_Value', 'Null_Values_Count']).show()\r\n"
      ],
      "execution_count": 104,
      "outputs": [
        {
          "output_type": "stream",
          "text": [
            "+----------------------+-----------------+\n",
            "|Column_With_Null_Value|Null_Values_Count|\n",
            "+----------------------+-----------------+\n",
            "|                   Age|              177|\n",
            "|                 Cabin|              687|\n",
            "|              Embarked|                2|\n",
            "+----------------------+-----------------+\n",
            "\n"
          ],
          "name": "stdout"
        }
      ]
    },
    {
      "cell_type": "markdown",
      "metadata": {
        "id": "LZoxA9OD4fXp"
      },
      "source": [
        "### **Check Initals By Age**"
      ]
    },
    {
      "cell_type": "code",
      "metadata": {
        "id": "GdS8pq294nIm"
      },
      "source": [
        "titanic_df.select(\"Name\").show()\r\n"
      ],
      "execution_count": null,
      "outputs": []
    },
    {
      "cell_type": "code",
      "metadata": {
        "id": "E-J_bBxU4tUN"
      },
      "source": [
        "titanic_df = titanic_df.withColumn(\"Initial\",regexp_extract(col(\"Name\"),\"([A-Za-z]+)\\.\",1))\r\n",
        "titanic_df.show()\r\n"
      ],
      "execution_count": null,
      "outputs": []
    },
    {
      "cell_type": "code",
      "metadata": {
        "colab": {
          "base_uri": "https://localhost:8080/"
        },
        "id": "_MxkmR2O4yzL",
        "outputId": "49d36efc-b721-4252-f1cb-432786e19a8f"
      },
      "source": [
        "titanic_df.select(\"Initial\").distinct().show()\r\n"
      ],
      "execution_count": 110,
      "outputs": [
        {
          "output_type": "stream",
          "text": [
            "+--------+\n",
            "| Initial|\n",
            "+--------+\n",
            "|     Don|\n",
            "|    Miss|\n",
            "|Countess|\n",
            "|     Col|\n",
            "|     Rev|\n",
            "|    Lady|\n",
            "|  Master|\n",
            "|     Mme|\n",
            "|    Capt|\n",
            "|      Mr|\n",
            "|      Dr|\n",
            "|     Mrs|\n",
            "|     Sir|\n",
            "|Jonkheer|\n",
            "|    Mlle|\n",
            "|   Major|\n",
            "|      Ms|\n",
            "+--------+\n",
            "\n"
          ],
          "name": "stdout"
        }
      ]
    },
    {
      "cell_type": "code",
      "metadata": {
        "id": "h-LcqZms4viu"
      },
      "source": [
        "#Fix some typos here\r\n",
        "titanic_df = titanic_df.replace(['Mlle','Mme', 'Ms', 'Dr','Major','Lady','Countess','Jonkheer','Col','Rev','Capt','Sir','Don'],\r\n",
        "               ['Miss','Miss','Miss','Mr','Mr',  'Mrs',  'Mrs',  'Other',  'Other','Other','Mr','Mr','Mr'])"
      ],
      "execution_count": 111,
      "outputs": []
    },
    {
      "cell_type": "code",
      "metadata": {
        "colab": {
          "base_uri": "https://localhost:8080/"
        },
        "id": "5KAqz0_Y45Yt",
        "outputId": "51705d87-5059-4aa4-e8df-ab5af5e4b47e"
      },
      "source": [
        "titanic_df.select(\"Initial\").distinct().show()\r\n"
      ],
      "execution_count": 112,
      "outputs": [
        {
          "output_type": "stream",
          "text": [
            "+-------+\n",
            "|Initial|\n",
            "+-------+\n",
            "|   Miss|\n",
            "|  Other|\n",
            "| Master|\n",
            "|     Mr|\n",
            "|    Mrs|\n",
            "+-------+\n",
            "\n"
          ],
          "name": "stdout"
        }
      ]
    },
    {
      "cell_type": "code",
      "metadata": {
        "colab": {
          "base_uri": "https://localhost:8080/"
        },
        "id": "uvd2qHit4-gf",
        "outputId": "99f60ce0-7b2d-420e-cbce-14b59d9a33a6"
      },
      "source": [
        "titanic_df.groupby('Initial').avg('Age').collect()\r\n"
      ],
      "execution_count": 113,
      "outputs": [
        {
          "output_type": "execute_result",
          "data": {
            "text/plain": [
              "[Row(Initial='Miss', avg(Age)=21.86),\n",
              " Row(Initial='Other', avg(Age)=45.888888888888886),\n",
              " Row(Initial='Master', avg(Age)=4.574166666666667),\n",
              " Row(Initial='Mr', avg(Age)=32.73960880195599),\n",
              " Row(Initial='Mrs', avg(Age)=35.981818181818184)]"
            ]
          },
          "metadata": {
            "tags": []
          },
          "execution_count": 113
        }
      ]
    },
    {
      "cell_type": "code",
      "metadata": {
        "id": "Ey7nH6iJ4_zQ"
      },
      "source": [
        "#igore the nulls\r\n",
        "titanic_df = titanic_df.withColumn(\"Age\",when((titanic_df[\"Initial\"] == \"Miss\") & (titanic_df[\"Age\"].isNull()), 22).otherwise(titanic_df[\"Age\"]))\r\n",
        "titanic_df = titanic_df.withColumn(\"Age\",when((titanic_df[\"Initial\"] == \"Other\") & (titanic_df[\"Age\"].isNull()), 46).otherwise(titanic_df[\"Age\"]))\r\n",
        "titanic_df = titanic_df.withColumn(\"Age\",when((titanic_df[\"Initial\"] == \"Master\") & (titanic_df[\"Age\"].isNull()), 5).otherwise(titanic_df[\"Age\"]))\r\n",
        "titanic_df = titanic_df.withColumn(\"Age\",when((titanic_df[\"Initial\"] == \"Mr\") & (titanic_df[\"Age\"].isNull()), 33).otherwise(titanic_df[\"Age\"]))\r\n",
        "titanic_df = titanic_df.withColumn(\"Age\",when((titanic_df[\"Initial\"] == \"Mrs\") & (titanic_df[\"Age\"].isNull()), 36).otherwise(titanic_df[\"Age\"]))"
      ],
      "execution_count": 114,
      "outputs": []
    },
    {
      "cell_type": "code",
      "metadata": {
        "colab": {
          "base_uri": "https://localhost:8080/"
        },
        "id": "83yNJRUV5JHx",
        "outputId": "7b586734-0adf-4781-8344-90c1ce3e7693"
      },
      "source": [
        "titanic_df.groupby('Initial').avg('Age').collect()\r\n"
      ],
      "execution_count": 116,
      "outputs": [
        {
          "output_type": "execute_result",
          "data": {
            "text/plain": [
              "[Row(Initial='Miss', avg(Age)=21.887096774193548),\n",
              " Row(Initial='Other', avg(Age)=45.888888888888886),\n",
              " Row(Initial='Master', avg(Age)=4.616750000000001),\n",
              " Row(Initial='Mr', avg(Age)=32.79867674858223),\n",
              " Row(Initial='Mrs', avg(Age)=35.98425196850393)]"
            ]
          },
          "metadata": {
            "tags": []
          },
          "execution_count": 116
        }
      ]
    },
    {
      "cell_type": "markdown",
      "metadata": {
        "id": "0SD6kD2b5YlR"
      },
      "source": [
        "### **Drop columns which are not required**"
      ]
    },
    {
      "cell_type": "code",
      "metadata": {
        "id": "L2mOAmuw5b0y"
      },
      "source": [
        "titanic_df = titanic_df.drop(\"PassengerId\",\"Name\",\"Ticket\",\"Cabin\",\"Embarked\",\"Sex\",\"Initial\")\r\n"
      ],
      "execution_count": 117,
      "outputs": []
    },
    {
      "cell_type": "code",
      "metadata": {
        "id": "h-pKZzPt5iIo"
      },
      "source": [
        "titanic_df.show()\r\n"
      ],
      "execution_count": null,
      "outputs": []
    },
    {
      "cell_type": "markdown",
      "metadata": {
        "id": "5xNikuBO6CTT"
      },
      "source": [
        "### **Bring features to vectors and prepare for modelling**"
      ]
    },
    {
      "cell_type": "code",
      "metadata": {
        "colab": {
          "base_uri": "https://localhost:8080/"
        },
        "id": "wihZCgEK5u5d",
        "outputId": "da340bd9-590b-43e3-fb3b-ab284cd96c8d"
      },
      "source": [
        "feature = VectorAssembler(inputCols=titanic_df.columns[1:],outputCol=\"features\")\r\n",
        "feature_vector= feature.transform(titanic_df)\r\n",
        "feature_vector.show()"
      ],
      "execution_count": 120,
      "outputs": [
        {
          "output_type": "stream",
          "text": [
            "+--------+------+----+-----+-----+-------+--------------------+\n",
            "|Survived|Pclass| Age|SibSp|Parch|   Fare|            features|\n",
            "+--------+------+----+-----+-----+-------+--------------------+\n",
            "|       0|     3|22.0|    1|    0|   7.25|[3.0,22.0,1.0,0.0...|\n",
            "|       1|     1|38.0|    1|    0|71.2833|[1.0,38.0,1.0,0.0...|\n",
            "|       1|     3|26.0|    0|    0|  7.925|[3.0,26.0,0.0,0.0...|\n",
            "|       1|     1|35.0|    1|    0|   53.1|[1.0,35.0,1.0,0.0...|\n",
            "|       0|     3|35.0|    0|    0|   8.05|[3.0,35.0,0.0,0.0...|\n",
            "|       0|     3|33.0|    0|    0| 8.4583|[3.0,33.0,0.0,0.0...|\n",
            "|       0|     1|54.0|    0|    0|51.8625|[1.0,54.0,0.0,0.0...|\n",
            "|       0|     3| 2.0|    3|    1| 21.075|[3.0,2.0,3.0,1.0,...|\n",
            "|       1|     3|27.0|    0|    2|11.1333|[3.0,27.0,0.0,2.0...|\n",
            "|       1|     2|14.0|    1|    0|30.0708|[2.0,14.0,1.0,0.0...|\n",
            "|       1|     3| 4.0|    1|    1|   16.7|[3.0,4.0,1.0,1.0,...|\n",
            "|       1|     1|58.0|    0|    0|  26.55|[1.0,58.0,0.0,0.0...|\n",
            "|       0|     3|20.0|    0|    0|   8.05|[3.0,20.0,0.0,0.0...|\n",
            "|       0|     3|39.0|    1|    5| 31.275|[3.0,39.0,1.0,5.0...|\n",
            "|       0|     3|14.0|    0|    0| 7.8542|[3.0,14.0,0.0,0.0...|\n",
            "|       1|     2|55.0|    0|    0|   16.0|[2.0,55.0,0.0,0.0...|\n",
            "|       0|     3| 2.0|    4|    1| 29.125|[3.0,2.0,4.0,1.0,...|\n",
            "|       1|     2|33.0|    0|    0|   13.0|[2.0,33.0,0.0,0.0...|\n",
            "|       0|     3|31.0|    1|    0|   18.0|[3.0,31.0,1.0,0.0...|\n",
            "|       1|     3|36.0|    0|    0|  7.225|[3.0,36.0,0.0,0.0...|\n",
            "+--------+------+----+-----+-----+-------+--------------------+\n",
            "only showing top 20 rows\n",
            "\n"
          ],
          "name": "stdout"
        }
      ]
    },
    {
      "cell_type": "code",
      "metadata": {
        "id": "SHMoOhCq529G"
      },
      "source": [
        "(trainingData, testData) = feature_vector.randomSplit([0.8, 0.2],seed = 11)\r\n"
      ],
      "execution_count": 121,
      "outputs": []
    },
    {
      "cell_type": "markdown",
      "metadata": {
        "id": "kJ9dyNYG6fxd"
      },
      "source": [
        "### **Modelling - LogisticRegression**"
      ]
    },
    {
      "cell_type": "code",
      "metadata": {
        "colab": {
          "base_uri": "https://localhost:8080/"
        },
        "id": "ShYTe8EW6j6i",
        "outputId": "1aef2c92-0362-40bb-8efa-cb2f0fe7c870"
      },
      "source": [
        "from pyspark.ml.classification import LogisticRegression\r\n",
        "lr = LogisticRegression(labelCol=\"Survived\", featuresCol=\"features\")\r\n",
        "#Training algo\r\n",
        "lrModel = lr.fit(trainingData)\r\n",
        "lr_prediction = lrModel.transform(testData)\r\n",
        "lr_prediction.select(\"prediction\", \"Survived\", \"features\").show()\r\n",
        "evaluator = MulticlassClassificationEvaluator(labelCol=\"Survived\", predictionCol=\"prediction\", metricName=\"accuracy\")"
      ],
      "execution_count": 122,
      "outputs": [
        {
          "output_type": "stream",
          "text": [
            "+----------+--------+--------------------+\n",
            "|prediction|Survived|            features|\n",
            "+----------+--------+--------------------+\n",
            "|       1.0|       0|[1.0,24.0,0.0,1.0...|\n",
            "|       1.0|       0|[1.0,27.0,0.0,2.0...|\n",
            "|       1.0|       0|[1.0,33.0,0.0,0.0...|\n",
            "|       1.0|       0|[1.0,33.0,0.0,0.0...|\n",
            "|       1.0|       0|[1.0,33.0,0.0,0.0...|\n",
            "|       1.0|       0|[1.0,33.0,0.0,0.0...|\n",
            "|       1.0|       0|[1.0,37.0,0.0,1.0...|\n",
            "|       1.0|       0|[1.0,40.0,0.0,0.0...|\n",
            "|       0.0|       0|[1.0,46.0,1.0,0.0...|\n",
            "|       0.0|       0|[1.0,50.0,0.0,0.0...|\n",
            "|       1.0|       0|[1.0,52.0,1.0,1.0...|\n",
            "|       0.0|       0|[1.0,62.0,0.0,0.0...|\n",
            "|       0.0|       0|[1.0,65.0,0.0,1.0...|\n",
            "|       1.0|       0|[2.0,21.0,0.0,0.0...|\n",
            "|       0.0|       0|[2.0,24.0,0.0,0.0...|\n",
            "|       0.0|       0|[2.0,31.0,0.0,0.0...|\n",
            "|       0.0|       0|(5,[0,1],[2.0,33.0])|\n",
            "|       0.0|       0|[2.0,34.0,1.0,0.0...|\n",
            "|       0.0|       0|[2.0,36.0,0.0,0.0...|\n",
            "|       0.0|       0|[2.0,54.0,0.0,0.0...|\n",
            "+----------+--------+--------------------+\n",
            "only showing top 20 rows\n",
            "\n"
          ],
          "name": "stdout"
        }
      ]
    },
    {
      "cell_type": "code",
      "metadata": {
        "id": "vhhpyhgf63I-"
      },
      "source": [
        ""
      ],
      "execution_count": null,
      "outputs": []
    }
  ]
}